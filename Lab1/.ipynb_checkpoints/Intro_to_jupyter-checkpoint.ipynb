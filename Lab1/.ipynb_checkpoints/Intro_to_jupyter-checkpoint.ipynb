{
 "cells": [
  {
   "cell_type": "markdown",
   "id": "08047376-3fea-4c42-8c47-57026fb3a17a",
   "metadata": {},
   "source": [
    "1.1. Launch Jupyter Notebook on your computer.\r\n",
    "1.2. Create a new notebook by clicking on the \"New\" button and selecting \"Python 3\" from the dropdown menu.\r\n",
    "1.3. Familiarize yourself with the interface: cells, toolbar, menu options, etc.\r\n",
    "1.4. Rename your notebook to \"Intro_to_Jupyter.ipynb\".\r\n"
   ]
  },
  {
   "cell_type": "markdown",
   "id": "89c972e5-a35d-4099-8625-6d40269ea6e2",
   "metadata": {},
   "source": [
    "Jupyter is an open-source interactive computing environment that enables users to create and share documents that contain live code, equations, visualizations, and narrative text. Originally developed for Python (hence the name, a combination of \"Julia,\" \"Python,\" and \"R\"), Jupyter has evolved into a multi-language platform that supports numerous programming languages through the use of kernels."
   ]
  },
  {
   "cell_type": "markdown",
   "id": "9785cabf-8a65-45f8-9d78-e26933aa59d3",
   "metadata": {},
   "source": [
    "2.1. Understand the two main types of cells: Code and Markdown.\n",
    "2.2. Create a new Markdown cell and write a brief introduction to Jupyter Notebooks.\n",
    "2.3. Create a new Code cell and write a simple Python expression (e.g., 2 + 2).\n",
    "2.4. Execute the Code cell by pressing Shift + Enter and observe the output.\n",
    "2.5. Experiment with adding, deleting, and moving cells within the notebook."
   ]
  },
  {
   "cell_type": "code",
   "execution_count": 1,
   "id": "2f7a0abe-ef7e-43a7-a22c-81583cf1b407",
   "metadata": {},
   "outputs": [
    {
     "data": {
      "text/plain": [
       "4"
      ]
     },
     "execution_count": 1,
     "metadata": {},
     "output_type": "execute_result"
    }
   ],
   "source": [
    "2+2"
   ]
  },
  {
   "cell_type": "markdown",
   "id": "f648db3f-cdd4-4a4f-a026-031346c0de99",
   "metadata": {},
   "source": [
    "\n",
    "3.1. Learn basic Markdown syntax for text formatting (e.g., headings, bold, italic).\r\n",
    "3.2. Practice creating Markdown cells with formatted text and headings.\r\n",
    "3.3. Insert images and hyperlinks using Markdown syntax.\r\n",
    "3.4. Create a Markdown cell with a list of your favorite programming languages."
   ]
  },
  {
   "cell_type": "markdown",
   "id": "98332581-3b49-4673-ab89-a27a09151004",
   "metadata": {},
   "source": [
    "## TOP 5 PROGRAMMING lANGUAGES\n",
    "1. *Python*\n",
    "2. **Python**\n",
    "3. [python](https://www.python.org/)\n",
    "4. ![pitón](https://upload.wikimedia.org/wikipedia/en/c/cb/Flyingcircus_2.jpg)\n"
   ]
  },
  {
   "cell_type": "markdown",
   "id": "0265138d-7c1e-4e44-9372-439d8b1f8f72",
   "metadata": {},
   "source": [
    "\n",
    "4.1. Write a Python function that calculates the factorial of a given number.\r\n",
    "4.2. Test your function with different input values and observe the results.\r\n",
    "4.3. Import a Python library (e.g., NumPy) and use it to perform a mathematical operation (e.g., calculate mean, median).\r\n",
    "4.4. Visualize data using Matplotlib or Seaborn libraries within a Jupyter Notebook."
   ]
  },
  {
   "cell_type": "code",
   "execution_count": 2,
   "id": "3ac278d4-ece5-4fd7-8c4f-106cc72a8c35",
   "metadata": {},
   "outputs": [],
   "source": [
    "def factorial(n : int) -> int:\n",
    "    fact = 1\n",
    "    for i in range(n):\n",
    "        fact *= i+1\n",
    "    return fact\n",
    "        \n",
    "    "
   ]
  },
  {
   "cell_type": "code",
   "execution_count": 3,
   "id": "b380854b-b568-4306-8cfb-f7c20b12f26e",
   "metadata": {},
   "outputs": [],
   "source": [
    "a = [factorial(x+1) for x in range(5)]"
   ]
  },
  {
   "cell_type": "code",
   "execution_count": 4,
   "id": "dbc280e8-9963-4baa-bea3-6ccfb9a8102e",
   "metadata": {},
   "outputs": [
    {
     "data": {
      "text/plain": [
       "[1, 2, 6, 24, 120]"
      ]
     },
     "execution_count": 4,
     "metadata": {},
     "output_type": "execute_result"
    }
   ],
   "source": [
    "a"
   ]
  },
  {
   "cell_type": "code",
   "execution_count": 5,
   "id": "5ebd6dc6-4391-481d-a5ac-64def5a74e26",
   "metadata": {},
   "outputs": [],
   "source": [
    "import numpy "
   ]
  },
  {
   "cell_type": "code",
   "execution_count": 6,
   "id": "6585b411-66f5-4f47-bf21-95ca0cc4b331",
   "metadata": {},
   "outputs": [
    {
     "data": {
      "text/plain": [
       "30.6"
      ]
     },
     "execution_count": 6,
     "metadata": {},
     "output_type": "execute_result"
    }
   ],
   "source": [
    "numpy.mean(a)"
   ]
  },
  {
   "cell_type": "code",
   "execution_count": 7,
   "id": "ca9e9e74-cfbc-461f-b73d-f61038e58b1b",
   "metadata": {},
   "outputs": [],
   "source": [
    "import matplotlib.pyplot as plt"
   ]
  },
  {
   "cell_type": "code",
   "execution_count": 8,
   "id": "85e928c4-7ed1-4426-beb5-2a01378284e2",
   "metadata": {},
   "outputs": [],
   "source": [
    "y = numpy.arange(5)"
   ]
  },
  {
   "cell_type": "code",
   "execution_count": 9,
   "id": "7b9a8ea8-2cd0-4a22-9902-115d49ececbc",
   "metadata": {},
   "outputs": [
    {
     "data": {
      "text/plain": [
       "array([0, 1, 2, 3, 4])"
      ]
     },
     "execution_count": 9,
     "metadata": {},
     "output_type": "execute_result"
    }
   ],
   "source": [
    "y"
   ]
  },
  {
   "cell_type": "code",
   "execution_count": 10,
   "id": "12f52ab0-3129-430b-bb7b-3e04b5e232d0",
   "metadata": {},
   "outputs": [
    {
     "data": {
      "text/plain": [
       "[<matplotlib.lines.Line2D at 0x171a2b6c410>]"
      ]
     },
     "execution_count": 10,
     "metadata": {},
     "output_type": "execute_result"
    },
    {
     "data": {
      "image/png": "[encoded data removed]",
      "text/plain": [
       "<Figure size 640x480 with 1 Axes>"
      ]
     },
     "metadata": {},
     "output_type": "display_data"
    }
   ],
   "source": [
    "plt.plot(a,y)"
   ]
  },
  {
   "cell_type": "markdown",
   "id": "8656966a-e72e-4df3-9a19-c59f3aa4986c",
   "metadata": {},
   "source": [
    "8.1. Learn about interactive widgets in Jupyter and their purpose.\n",
    "8.2. Create a simple interactive widget (e.g., a slider to input a number).\n",
    "8.3. Link the widget to a Python function (e.g., modifying a plot based on the widget's input)."
   ]
  },
  {
   "cell_type": "code",
   "execution_count": 11,
   "id": "cb75ff4b-c2ca-4831-ba0c-7909299b2f71",
   "metadata": {},
   "outputs": [],
   "source": [
    "import ipywidgets as widgets"
   ]
  },
  {
   "cell_type": "code",
   "execution_count": 12,
   "id": "69ac229a-64b6-49f7-a5db-337a1444efdf",
   "metadata": {},
   "outputs": [],
   "source": [
    "slider = widgets.IntSlider(min = 0, max = 10,step = 1)"
   ]
  },
  {
   "cell_type": "code",
   "execution_count": 13,
   "id": "2d79065c-bfd2-4a6d-8257-8d7d5be91252",
   "metadata": {},
   "outputs": [
    {
     "ename": "SyntaxError",
     "evalue": "expected '(' (3469429988.py, line 1)",
     "output_type": "error",
     "traceback": [
      "\u001b[1;36m  Cell \u001b[1;32mIn[13], line 1\u001b[1;36m\u001b[0m\n\u001b[1;33m    def plotfactorials\u001b[0m\n\u001b[1;37m                      ^\u001b[0m\n\u001b[1;31mSyntaxError\u001b[0m\u001b[1;31m:\u001b[0m expected '('\n"
     ]
    }
   ],
   "source": [
    "def plotfactorials"
   ]
  },
  {
   "cell_type": "code",
   "execution_count": null,
   "id": "4b4d8ddf-69ac-408b-b224-40ff132cb350",
   "metadata": {},
   "outputs": [],
   "source": [
    "widgets.interact(factorial,n = slider)"
   ]
  }
 ],
 "metadata": {
  "kernelspec": {
   "display_name": "Python 3 (ipykernel)",
   "language": "python",
   "name": "python3"
  },
  "language_info": {
   "codemirror_mode": {
    "name": "ipython",
    "version": 3
   },
   "file_extension": ".py",
   "mimetype": "text/x-python",
   "name": "python",
   "nbconvert_exporter": "python",
   "pygments_lexer": "ipython3",
   "version": "3.11.5"
  }
 },
 "nbformat": 4,
 "nbformat_minor": 5
}
